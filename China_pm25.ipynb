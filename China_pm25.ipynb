{
 "cells": [
  {
   "cell_type": "code",
   "execution_count": null,
   "metadata": {
    "collapsed": false
   },
   "outputs": [],
   "source": [
    "# -*- coding: utf-8 -*-\n",
    "import requests\n",
    "from lxml import etree\n",
    "\n",
    "def get_city_lst():\n",
    "    res = requests.get('http://www.tianqihoubao.com/aqi/')\n",
    "    html = res.text\n",
    "    res = etree.HTML(html)\n",
    "    data = res.xpath('//*[@class=\"citychk\"]/dl//a/@href')\n",
    "    city_lst = list(set(data))\n",
    "    return city_lst\n",
    "\n",
    "def download_data(path,city_lst):\n",
    "    fl = open(path,'w')\n",
    "    for city in city_lst:\n",
    "        res = requests.get('http://www.tianqihoubao.com' + city)\n",
    "        html = res.text\n",
    "        res = etree.HTML(html)\n",
    "        data = res.xpath('//table//td/text()')\n",
    "        data = ''.join(data).strip().replace(' ','').split()\n",
    "        city_name = res.xpath('//h1/text()')[0].split(u'空气')[0]\n",
    "        data = [i.encode('gbk') for i in data]       \n",
    "        for i in range(0,len(data)/9):\n",
    "            da = data[i*9:(9+(i*9))]\n",
    "            fl.writelines(city_name.encode('gbk') + ',' + ','.join(da))\n",
    "            fl.writelines('\\n')\n",
    "        print city_name + u'下载完成！'\n",
    "    fl.close()\n",
    "\n",
    "if __name__ == \"__main__\":\n",
    "    path = './data/China_pm25'\n",
    "    city_lst = get_city_lst()\n",
    "    download_data(path,city_lst)\n",
    "    print u'全部数据下载完成!'"
   ]
  },
  {
   "cell_type": "code",
   "execution_count": null,
   "metadata": {
    "collapsed": true
   },
   "outputs": [],
   "source": []
  }
 ],
 "metadata": {
  "kernelspec": {
   "display_name": "Python 3",
   "language": "python",
   "name": "python3"
  },
  "language_info": {
   "codemirror_mode": {
    "name": "ipython",
    "version": 3
   },
   "file_extension": ".py",
   "mimetype": "text/x-python",
   "name": "python",
   "nbconvert_exporter": "python",
   "pygments_lexer": "ipython3",
   "version": "3.6.0"
  }
 },
 "nbformat": 4,
 "nbformat_minor": 2
}
